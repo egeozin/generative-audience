{
 "cells": [
  {
   "cell_type": "code",
   "execution_count": 1,
   "metadata": {},
   "outputs": [
    {
     "data": {
      "text/html": [
       "<div>\n",
       "<style scoped>\n",
       "    .dataframe tbody tr th:only-of-type {\n",
       "        vertical-align: middle;\n",
       "    }\n",
       "\n",
       "    .dataframe tbody tr th {\n",
       "        vertical-align: top;\n",
       "    }\n",
       "\n",
       "    .dataframe thead th {\n",
       "        text-align: right;\n",
       "    }\n",
       "</style>\n",
       "<table border=\"1\" class=\"dataframe\">\n",
       "  <thead>\n",
       "    <tr style=\"text-align: right;\">\n",
       "      <th></th>\n",
       "      <th>Country</th>\n",
       "      <th>Users</th>\n",
       "      <th>New Users</th>\n",
       "      <th>Sessions</th>\n",
       "      <th>Bounce Rate</th>\n",
       "      <th>Pages / Session</th>\n",
       "      <th>Avg. Session Duration</th>\n",
       "    </tr>\n",
       "  </thead>\n",
       "  <tbody>\n",
       "    <tr>\n",
       "      <th>0</th>\n",
       "      <td>United States</td>\n",
       "      <td>434,944,680</td>\n",
       "      <td>427,058,422</td>\n",
       "      <td>1,202,850,944</td>\n",
       "      <td>59.86%</td>\n",
       "      <td>1.32</td>\n",
       "      <td>0:02:35</td>\n",
       "    </tr>\n",
       "    <tr>\n",
       "      <th>1</th>\n",
       "      <td>Canada</td>\n",
       "      <td>58,957,484</td>\n",
       "      <td>56,514,054</td>\n",
       "      <td>160,809,556</td>\n",
       "      <td>58.49%</td>\n",
       "      <td>1.31</td>\n",
       "      <td>0:02:53</td>\n",
       "    </tr>\n",
       "    <tr>\n",
       "      <th>2</th>\n",
       "      <td>United Kingdom</td>\n",
       "      <td>46,435,791</td>\n",
       "      <td>44,456,259</td>\n",
       "      <td>103,884,722</td>\n",
       "      <td>61.56%</td>\n",
       "      <td>1.35</td>\n",
       "      <td>0:02:25</td>\n",
       "    </tr>\n",
       "    <tr>\n",
       "      <th>3</th>\n",
       "      <td>Australia</td>\n",
       "      <td>23,587,951</td>\n",
       "      <td>22,614,120</td>\n",
       "      <td>58,504,210</td>\n",
       "      <td>61.07%</td>\n",
       "      <td>1.39</td>\n",
       "      <td>0:02:51</td>\n",
       "    </tr>\n",
       "    <tr>\n",
       "      <th>4</th>\n",
       "      <td>Germany</td>\n",
       "      <td>7,542,762</td>\n",
       "      <td>7,057,617</td>\n",
       "      <td>16,473,675</td>\n",
       "      <td>55.65%</td>\n",
       "      <td>1.38</td>\n",
       "      <td>0:03:13</td>\n",
       "    </tr>\n",
       "  </tbody>\n",
       "</table>\n",
       "</div>"
      ],
      "text/plain": [
       "          Country        Users    New Users       Sessions Bounce Rate  \\\n",
       "0   United States  434,944,680  427,058,422  1,202,850,944      59.86%   \n",
       "1          Canada   58,957,484   56,514,054    160,809,556      58.49%   \n",
       "2  United Kingdom   46,435,791   44,456,259    103,884,722      61.56%   \n",
       "3       Australia   23,587,951   22,614,120     58,504,210      61.07%   \n",
       "4         Germany    7,542,762    7,057,617     16,473,675      55.65%   \n",
       "\n",
       "   Pages / Session Avg. Session Duration  \n",
       "0             1.32               0:02:35  \n",
       "1             1.31               0:02:53  \n",
       "2             1.35               0:02:25  \n",
       "3             1.39               0:02:51  \n",
       "4             1.38               0:03:13  "
      ]
     },
     "execution_count": 1,
     "metadata": {},
     "output_type": "execute_result"
    }
   ],
   "source": [
    "import pandas as pd\n",
    "\n",
    "aggregate_country_data = pd.read_csv('./2013.01.01-2015.04.30-aggregate-country-data.csv')\n",
    "aggregate_country_data.head()"
   ]
  },
  {
   "cell_type": "code",
   "execution_count": 3,
   "metadata": {},
   "outputs": [
    {
     "data": {
      "text/html": [
       "<div>\n",
       "<style scoped>\n",
       "    .dataframe tbody tr th:only-of-type {\n",
       "        vertical-align: middle;\n",
       "    }\n",
       "\n",
       "    .dataframe tbody tr th {\n",
       "        vertical-align: top;\n",
       "    }\n",
       "\n",
       "    .dataframe thead th {\n",
       "        text-align: right;\n",
       "    }\n",
       "</style>\n",
       "<table border=\"1\" class=\"dataframe\">\n",
       "  <thead>\n",
       "    <tr style=\"text-align: right;\">\n",
       "      <th></th>\n",
       "      <th>Day Index</th>\n",
       "      <th>Pageviews</th>\n",
       "    </tr>\n",
       "  </thead>\n",
       "  <tbody>\n",
       "    <tr>\n",
       "      <th>0</th>\n",
       "      <td>1/1/13</td>\n",
       "      <td>92,812</td>\n",
       "    </tr>\n",
       "    <tr>\n",
       "      <th>1</th>\n",
       "      <td>1/2/13</td>\n",
       "      <td>182,645</td>\n",
       "    </tr>\n",
       "    <tr>\n",
       "      <th>2</th>\n",
       "      <td>1/3/13</td>\n",
       "      <td>286,954</td>\n",
       "    </tr>\n",
       "    <tr>\n",
       "      <th>3</th>\n",
       "      <td>1/4/13</td>\n",
       "      <td>331,373</td>\n",
       "    </tr>\n",
       "    <tr>\n",
       "      <th>4</th>\n",
       "      <td>1/5/13</td>\n",
       "      <td>194,671</td>\n",
       "    </tr>\n",
       "  </tbody>\n",
       "</table>\n",
       "</div>"
      ],
      "text/plain": [
       "  Day Index Pageviews\n",
       "0    1/1/13    92,812\n",
       "1    1/2/13   182,645\n",
       "2    1/3/13   286,954\n",
       "3    1/4/13   331,373\n",
       "4    1/5/13   194,671"
      ]
     },
     "execution_count": 3,
     "metadata": {},
     "output_type": "execute_result"
    }
   ],
   "source": [
    "daily_pageviews = pd.read_csv('./2013.01.01-2015.04.30-daily-pageviews.csv')\n",
    "daily_pageviews.head()"
   ]
  },
  {
   "cell_type": "code",
   "execution_count": 4,
   "metadata": {},
   "outputs": [
    {
     "data": {
      "text/plain": [
       "('434944680', 2351171402)"
      ]
     },
     "execution_count": 4,
     "metadata": {},
     "output_type": "execute_result"
    }
   ],
   "source": [
    "# Extracting the number of US users from the aggregate country data\n",
    "us_users = aggregate_country_data.loc[0, 'Users'].replace(',', '')\n",
    "\n",
    "# Summing the daily pageviews (removing commas for the calculation)\n",
    "total_pageviews = daily_pageviews['Pageviews'].str.replace(',', '').astype(int).sum()\n",
    "\n",
    "us_users, total_pageviews"
   ]
  },
  {
   "cell_type": "code",
   "execution_count": 5,
   "metadata": {},
   "outputs": [
    {
     "data": {
      "text/html": [
       "<div>\n",
       "<style scoped>\n",
       "    .dataframe tbody tr th:only-of-type {\n",
       "        vertical-align: middle;\n",
       "    }\n",
       "\n",
       "    .dataframe tbody tr th {\n",
       "        vertical-align: top;\n",
       "    }\n",
       "\n",
       "    .dataframe thead th {\n",
       "        text-align: right;\n",
       "    }\n",
       "</style>\n",
       "<table border=\"1\" class=\"dataframe\">\n",
       "  <thead>\n",
       "    <tr style=\"text-align: right;\">\n",
       "      <th></th>\n",
       "      <th>Pageviews</th>\n",
       "    </tr>\n",
       "    <tr>\n",
       "      <th>Day Index</th>\n",
       "      <th></th>\n",
       "    </tr>\n",
       "  </thead>\n",
       "  <tbody>\n",
       "    <tr>\n",
       "      <th>2013-01-31</th>\n",
       "      <td>11509872</td>\n",
       "    </tr>\n",
       "    <tr>\n",
       "      <th>2013-02-28</th>\n",
       "      <td>20013973</td>\n",
       "    </tr>\n",
       "    <tr>\n",
       "      <th>2013-03-31</th>\n",
       "      <td>25411704</td>\n",
       "    </tr>\n",
       "    <tr>\n",
       "      <th>2013-04-30</th>\n",
       "      <td>28910253</td>\n",
       "    </tr>\n",
       "    <tr>\n",
       "      <th>2013-05-31</th>\n",
       "      <td>54494358</td>\n",
       "    </tr>\n",
       "  </tbody>\n",
       "</table>\n",
       "</div>"
      ],
      "text/plain": [
       "            Pageviews\n",
       "Day Index            \n",
       "2013-01-31   11509872\n",
       "2013-02-28   20013973\n",
       "2013-03-31   25411704\n",
       "2013-04-30   28910253\n",
       "2013-05-31   54494358"
      ]
     },
     "execution_count": 5,
     "metadata": {},
     "output_type": "execute_result"
    }
   ],
   "source": [
    "# Converting the 'Day Index' column to a datetime object\n",
    "daily_pageviews['Day Index'] = pd.to_datetime(daily_pageviews['Day Index'], format='%m/%d/%y')\n",
    "\n",
    "# Setting the 'Day Index' column as the index for time series analysis\n",
    "daily_pageviews.set_index('Day Index', inplace=True)\n",
    "\n",
    "# Converting the 'Pageviews' column to an integer type\n",
    "daily_pageviews['Pageviews'] = daily_pageviews['Pageviews'].str.replace(',', '').astype(int)\n",
    "\n",
    "# Resampling the daily data into monthly data\n",
    "monthly_pageviews = daily_pageviews.resample('M').sum()\n",
    "monthly_pageviews.head()"
   ]
  },
  {
   "cell_type": "code",
   "execution_count": 7,
   "metadata": {},
   "outputs": [
    {
     "data": {
      "text/plain": [
       "(               Pageviews\n",
       " Day Index               \n",
       " 2013-01-31  7.326481e+06\n",
       " 2013-02-28  1.273967e+07\n",
       " 2013-03-31  1.617554e+07\n",
       " 2013-04-30  1.840250e+07\n",
       " 2013-05-31  3.468778e+07,\n",
       " './monthly_us_pageviews_2.csv')"
      ]
     },
     "execution_count": 7,
     "metadata": {},
     "output_type": "execute_result"
    }
   ],
   "source": [
    "# Calculating the total users from all countries\n",
    "total_users_all_countries = aggregate_country_data['Users'].str.replace(',', '').astype(int).sum()\n",
    "\n",
    "# Calculating the proportion of US viewership\n",
    "us_proportion = int(us_users) / total_users_all_countries\n",
    "\n",
    "# Calculating the monthly US pageviews\n",
    "monthly_us_pageviews = monthly_pageviews * us_proportion\n",
    "\n",
    "# Saving the monthly US pageviews to a CSV file\n",
    "output_file_path = './monthly_us_pageviews.csv'\n",
    "monthly_us_pageviews.to_csv(output_file_path)\n",
    "\n",
    "# Displaying the first few rows of the final result\n",
    "monthly_us_pageviews.head(), output_file_path"
   ]
  },
  {
   "cell_type": "code",
   "execution_count": 9,
   "metadata": {},
   "outputs": [
    {
     "data": {
      "image/png": "[encoded data removed]",
      "text/plain": [
       "<Figure size 1400x600 with 1 Axes>"
      ]
     },
     "metadata": {},
     "output_type": "display_data"
    }
   ],
   "source": [
    "import matplotlib.pyplot as plt\n",
    "\n",
    "# Plotting the monthly US pageviews\n",
    "plt.figure(figsize=(14, 6))\n",
    "plt.plot(monthly_us_pageviews.index, monthly_us_pageviews['Pageviews'], marker='o', linestyle='-', color='b')\n",
    "plt.title('Monthly US Pageviews (Jan 2013 - Apr 2015)', fontsize=15)\n",
    "plt.xlabel('Month', fontsize=12)\n",
    "plt.ylabel('Pageviews', fontsize=12)\n",
    "plt.grid(True)\n",
    "plt.xticks(rotation=45)\n",
    "plt.tight_layout()\n",
    "plt.show()"
   ]
  },
  {
   "cell_type": "code",
   "execution_count": 10,
   "metadata": {},
   "outputs": [
    {
     "data": {
      "text/plain": [
       "'November 2013'"
      ]
     },
     "execution_count": 10,
     "metadata": {},
     "output_type": "execute_result"
    }
   ],
   "source": [
    "# Finding the month corresponding to the peak usage\n",
    "peak_usage_month = monthly_us_pageviews['Pageviews'].idxmax()\n",
    "peak_usage_month.strftime('%B %Y')"
   ]
  },
  {
   "cell_type": "code",
   "execution_count": null,
   "metadata": {},
   "outputs": [],
   "source": []
  }
 ],
 "metadata": {
  "kernelspec": {
   "display_name": "gpt",
   "language": "python",
   "name": "python3"
  },
  "language_info": {
   "codemirror_mode": {
    "name": "ipython",
    "version": 3
   },
   "file_extension": ".py",
   "mimetype": "text/x-python",
   "name": "python",
   "nbconvert_exporter": "python",
   "pygments_lexer": "ipython3",
   "version": "3.8.10"
  },
  "orig_nbformat": 4
 },
 "nbformat": 4,
 "nbformat_minor": 2
}
