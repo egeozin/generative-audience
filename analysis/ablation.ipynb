{
 "cells": [
  {
   "cell_type": "code",
   "execution_count": 1,
   "metadata": {},
   "outputs": [],
   "source": [
    "import pandas as pd\n",
    "import openai\n",
    "import json\n",
    "from collections import Counter\n",
    "import os\n",
    "from dotenv import load_dotenv\n",
    "import re"
   ]
  },
  {
   "cell_type": "code",
   "execution_count": 2,
   "metadata": {},
   "outputs": [
    {
     "name": "stdout",
     "output_type": "stream",
     "text": [
      "49545\n",
      "0\n"
     ]
    }
   ],
   "source": [
    "# ID Filter for packages which have at least 2 unique headlines\n",
    "packages_df = pd.read_csv('upworthy_experiment_packages.csv', low_memory=False)\n",
    "packages_df = packages_df.drop(columns=['Unnamed: 0', 'Unnamed: 1'])\n",
    "valid_ids = packages_df.groupby('clickability_test_id').filter(lambda x: x['headline'].nunique() >= 4)['clickability_test_id'].unique()\n",
    "sample_packages = 5000\n",
    "sampled_ids = pd.Series(valid_ids).sample(sample_packages, random_state=123)\n",
    "#sampled_df = packages_df[packages_df['clickability_test_id'].isin(sampled_ids)]\n",
    "unique_df = packages_df[packages_df['clickability_test_id'].isin(valid_ids)]\n",
    "print(len(unique_df))\n",
    "better_df = unique_df.dropna()\n",
    "print(len(better_df))"
   ]
  },
  {
   "cell_type": "code",
   "execution_count": 3,
   "metadata": {},
   "outputs": [
    {
     "data": {
      "text/html": [
       "<div>\n",
       "<style scoped>\n",
       "    .dataframe tbody tr th:only-of-type {\n",
       "        vertical-align: middle;\n",
       "    }\n",
       "\n",
       "    .dataframe tbody tr th {\n",
       "        vertical-align: top;\n",
       "    }\n",
       "\n",
       "    .dataframe thead th {\n",
       "        text-align: right;\n",
       "    }\n",
       "</style>\n",
       "<table border=\"1\" class=\"dataframe\">\n",
       "  <thead>\n",
       "    <tr style=\"text-align: right;\">\n",
       "      <th></th>\n",
       "      <th>created_at</th>\n",
       "      <th>updated_at</th>\n",
       "      <th>clickability_test_id</th>\n",
       "      <th>excerpt</th>\n",
       "      <th>headline</th>\n",
       "      <th>lede</th>\n",
       "      <th>slug</th>\n",
       "      <th>eyecatcher_id</th>\n",
       "      <th>impressions</th>\n",
       "      <th>clicks</th>\n",
       "      <th>significance</th>\n",
       "      <th>first_place</th>\n",
       "      <th>winner</th>\n",
       "      <th>share_text</th>\n",
       "      <th>square</th>\n",
       "      <th>test_week</th>\n",
       "      <th>created</th>\n",
       "    </tr>\n",
       "  </thead>\n",
       "  <tbody>\n",
       "    <tr>\n",
       "      <th>0</th>\n",
       "      <td>2014-11-20 11:33:26.475</td>\n",
       "      <td>2016-04-02 16:25:54.046</td>\n",
       "      <td>546dd17e26714c82cc00001c</td>\n",
       "      <td>Things that matter. Pass 'em on.</td>\n",
       "      <td>Let’s See … Hire Cops, Pay Teachers, Buy Books...</td>\n",
       "      <td>&lt;p&gt;Iff you start with the basic fact that inno...</td>\n",
       "      <td>let-s-see-hire-cops-pay-teachers-buy-books-for...</td>\n",
       "      <td>546dce659ad54ec65b000041</td>\n",
       "      <td>3118</td>\n",
       "      <td>8</td>\n",
       "      <td>0.1</td>\n",
       "      <td>False</td>\n",
       "      <td>False</td>\n",
       "      <td>NaN</td>\n",
       "      <td>NaN</td>\n",
       "      <td>201446</td>\n",
       "      <td>2014-11-20 11:33:26.475</td>\n",
       "    </tr>\n",
       "    <tr>\n",
       "      <th>1</th>\n",
       "      <td>2014-11-20 15:00:01.032</td>\n",
       "      <td>2016-04-02 16:25:54.128</td>\n",
       "      <td>546e01d626714c6c4400004e</td>\n",
       "      <td>Things that matter. Pass 'em on.</td>\n",
       "      <td>People Sent This Lesbian Questions And Her Rai...</td>\n",
       "      <td>&lt;p&gt;I'll be honest. I've wondered about 7.&lt;/p&gt;</td>\n",
       "      <td>people-sent-this-lesbian-questions-and-her-rai...</td>\n",
       "      <td>546d1b4bfd3617f091000041</td>\n",
       "      <td>4587</td>\n",
       "      <td>130</td>\n",
       "      <td>55.8</td>\n",
       "      <td>False</td>\n",
       "      <td>False</td>\n",
       "      <td>NaN</td>\n",
       "      <td>NaN</td>\n",
       "      <td>201446</td>\n",
       "      <td>2014-11-20 15:00:01.032</td>\n",
       "    </tr>\n",
       "    <tr>\n",
       "      <th>2</th>\n",
       "      <td>2014-11-20 11:33:51.973</td>\n",
       "      <td>2016-04-02 16:25:54.069</td>\n",
       "      <td>546dd17e26714c82cc00001c</td>\n",
       "      <td>Things that matter. Pass 'em on.</td>\n",
       "      <td>$3 Million Is What It Takes For A State To Leg...</td>\n",
       "      <td>&lt;p&gt;Iff you start with the basic fact that inno...</td>\n",
       "      <td>3-million-is-what-it-takes-for-a-state-to-lega...</td>\n",
       "      <td>546dce659ad54ec65b000041</td>\n",
       "      <td>3017</td>\n",
       "      <td>19</td>\n",
       "      <td>26.9</td>\n",
       "      <td>False</td>\n",
       "      <td>False</td>\n",
       "      <td>NaN</td>\n",
       "      <td>NaN</td>\n",
       "      <td>201446</td>\n",
       "      <td>2014-11-20 11:33:51.973</td>\n",
       "    </tr>\n",
       "    <tr>\n",
       "      <th>3</th>\n",
       "      <td>2014-11-20 11:34:12.107</td>\n",
       "      <td>2016-04-02 16:25:54.049</td>\n",
       "      <td>546dd17e26714c82cc00001c</td>\n",
       "      <td>Things that matter. Pass 'em on.</td>\n",
       "      <td>The Fact That Sometimes Innocent People Are Ex...</td>\n",
       "      <td>&lt;p&gt;Iff you start with the basic fact that inno...</td>\n",
       "      <td>the-fact-that-sometimes-innocent-people-are-ex...</td>\n",
       "      <td>546dce659ad54ec65b000041</td>\n",
       "      <td>2974</td>\n",
       "      <td>26</td>\n",
       "      <td>100.0</td>\n",
       "      <td>True</td>\n",
       "      <td>False</td>\n",
       "      <td>NaN</td>\n",
       "      <td>NaN</td>\n",
       "      <td>201446</td>\n",
       "      <td>2014-11-20 11:34:12.107</td>\n",
       "    </tr>\n",
       "    <tr>\n",
       "      <th>4</th>\n",
       "      <td>2014-11-20 11:34:33.935</td>\n",
       "      <td>2016-04-02 16:25:54.072</td>\n",
       "      <td>546dd17e26714c82cc00001c</td>\n",
       "      <td>Things that matter. Pass 'em on.</td>\n",
       "      <td>Reason #351 To End The Death Penalty: It Costs...</td>\n",
       "      <td>&lt;p&gt;Iff you start with the basic fact that inno...</td>\n",
       "      <td>reason-351-to-end-the-death-penalty-it-costs-3...</td>\n",
       "      <td>546dce659ad54ec65b000041</td>\n",
       "      <td>3050</td>\n",
       "      <td>10</td>\n",
       "      <td>0.2</td>\n",
       "      <td>False</td>\n",
       "      <td>False</td>\n",
       "      <td>NaN</td>\n",
       "      <td>NaN</td>\n",
       "      <td>201446</td>\n",
       "      <td>2014-11-20 11:34:33.935</td>\n",
       "    </tr>\n",
       "    <tr>\n",
       "      <th>5</th>\n",
       "      <td>2014-11-20 11:34:48.474</td>\n",
       "      <td>2016-04-02 16:25:54.052</td>\n",
       "      <td>546dd17e26714c82cc00001c</td>\n",
       "      <td>Things that matter. Pass 'em on.</td>\n",
       "      <td>I Was Already Against The Death Penalty, But N...</td>\n",
       "      <td>&lt;p&gt;Iff you start with the basic fact that inno...</td>\n",
       "      <td>i-was-already-against-the-death-penalty-but-no...</td>\n",
       "      <td>546dce659ad54ec65b000041</td>\n",
       "      <td>3061</td>\n",
       "      <td>20</td>\n",
       "      <td>32.0</td>\n",
       "      <td>False</td>\n",
       "      <td>False</td>\n",
       "      <td>NaN</td>\n",
       "      <td>NaN</td>\n",
       "      <td>201446</td>\n",
       "      <td>2014-11-20 11:34:48.474</td>\n",
       "    </tr>\n",
       "    <tr>\n",
       "      <th>6</th>\n",
       "      <td>2014-11-20 11:36:09.896</td>\n",
       "      <td>2016-04-02 16:25:54.055</td>\n",
       "      <td>546dd17e26714c82cc00001c</td>\n",
       "      <td>Things that matter. Pass 'em on.</td>\n",
       "      <td>I'll Say It: It's Not OK For States To Legally...</td>\n",
       "      <td>&lt;p&gt;Iff you start with the basic fact that inno...</td>\n",
       "      <td>ill-say-it-its-not-ok-for-states-to-legally-mu...</td>\n",
       "      <td>546dce659ad54ec65b000041</td>\n",
       "      <td>2997</td>\n",
       "      <td>20</td>\n",
       "      <td>28.2</td>\n",
       "      <td>False</td>\n",
       "      <td>False</td>\n",
       "      <td>NaN</td>\n",
       "      <td>NaN</td>\n",
       "      <td>201446</td>\n",
       "      <td>2014-11-20 11:36:09.896</td>\n",
       "    </tr>\n",
       "    <tr>\n",
       "      <th>11</th>\n",
       "      <td>2014-11-20 15:48:53.77</td>\n",
       "      <td>2016-04-02 16:31:40.771</td>\n",
       "      <td>546e0d339ad54e667a00005a</td>\n",
       "      <td>Things that matter. Pass 'em on.</td>\n",
       "      <td>You Guys. Solar-Powered Boat Schools. Repeat. ...</td>\n",
       "      <td>&lt;p&gt;This is a pretty great idea for a TV show! ...</td>\n",
       "      <td>you-guys-solar-powered-boat-schools-repeat-sol...</td>\n",
       "      <td>546a84cc5b606a1fa0000022</td>\n",
       "      <td>4596</td>\n",
       "      <td>14</td>\n",
       "      <td>0.0</td>\n",
       "      <td>False</td>\n",
       "      <td>False</td>\n",
       "      <td>NaN</td>\n",
       "      <td>NaN</td>\n",
       "      <td>201446</td>\n",
       "      <td>2014-11-20 15:48:53.770</td>\n",
       "    </tr>\n",
       "    <tr>\n",
       "      <th>24</th>\n",
       "      <td>2014-11-20 15:49:14.3</td>\n",
       "      <td>2016-04-02 16:31:40.774</td>\n",
       "      <td>546e0d339ad54e667a00005a</td>\n",
       "      <td>Things that matter. Pass 'em on.</td>\n",
       "      <td>They're Asking For $12,000. If I Give It To Th...</td>\n",
       "      <td>&lt;p&gt;This is a pretty great idea for a TV show! ...</td>\n",
       "      <td>theyre-asking-for-12-000-if-i-give-it-to-them-...</td>\n",
       "      <td>546a84cc5b606a1fa0000022</td>\n",
       "      <td>4556</td>\n",
       "      <td>27</td>\n",
       "      <td>1.4</td>\n",
       "      <td>False</td>\n",
       "      <td>False</td>\n",
       "      <td>NaN</td>\n",
       "      <td>NaN</td>\n",
       "      <td>201446</td>\n",
       "      <td>2014-11-20 15:49:14.300</td>\n",
       "    </tr>\n",
       "    <tr>\n",
       "      <th>35</th>\n",
       "      <td>2014-11-20 13:35:08.065</td>\n",
       "      <td>2016-04-02 16:25:54.156</td>\n",
       "      <td>546dee0c26714c0538000056</td>\n",
       "      <td>#PromotedPost Things that matter. Pass 'em on.</td>\n",
       "      <td>At First Glance It Just Looks Like A Bus. But ...</td>\n",
       "      <td>&lt;p&gt;Meet Amelia. Some might call her a business...</td>\n",
       "      <td>at-first-glance-it-just-looks-like-a-bus-but-i...</td>\n",
       "      <td>5465291f744884eb36000042</td>\n",
       "      <td>4574</td>\n",
       "      <td>57</td>\n",
       "      <td>0.7</td>\n",
       "      <td>False</td>\n",
       "      <td>False</td>\n",
       "      <td>NaN</td>\n",
       "      <td>NaN</td>\n",
       "      <td>201446</td>\n",
       "      <td>2014-11-20 13:35:08.065</td>\n",
       "    </tr>\n",
       "  </tbody>\n",
       "</table>\n",
       "</div>"
      ],
      "text/plain": [
       "                 created_at               updated_at  \\\n",
       "0   2014-11-20 11:33:26.475  2016-04-02 16:25:54.046   \n",
       "1   2014-11-20 15:00:01.032  2016-04-02 16:25:54.128   \n",
       "2   2014-11-20 11:33:51.973  2016-04-02 16:25:54.069   \n",
       "3   2014-11-20 11:34:12.107  2016-04-02 16:25:54.049   \n",
       "4   2014-11-20 11:34:33.935  2016-04-02 16:25:54.072   \n",
       "5   2014-11-20 11:34:48.474  2016-04-02 16:25:54.052   \n",
       "6   2014-11-20 11:36:09.896  2016-04-02 16:25:54.055   \n",
       "11   2014-11-20 15:48:53.77  2016-04-02 16:31:40.771   \n",
       "24    2014-11-20 15:49:14.3  2016-04-02 16:31:40.774   \n",
       "35  2014-11-20 13:35:08.065  2016-04-02 16:25:54.156   \n",
       "\n",
       "        clickability_test_id                                         excerpt  \\\n",
       "0   546dd17e26714c82cc00001c                Things that matter. Pass 'em on.   \n",
       "1   546e01d626714c6c4400004e                Things that matter. Pass 'em on.   \n",
       "2   546dd17e26714c82cc00001c                Things that matter. Pass 'em on.   \n",
       "3   546dd17e26714c82cc00001c                Things that matter. Pass 'em on.   \n",
       "4   546dd17e26714c82cc00001c                Things that matter. Pass 'em on.   \n",
       "5   546dd17e26714c82cc00001c                Things that matter. Pass 'em on.   \n",
       "6   546dd17e26714c82cc00001c                Things that matter. Pass 'em on.   \n",
       "11  546e0d339ad54e667a00005a                Things that matter. Pass 'em on.   \n",
       "24  546e0d339ad54e667a00005a                Things that matter. Pass 'em on.   \n",
       "35  546dee0c26714c0538000056  #PromotedPost Things that matter. Pass 'em on.   \n",
       "\n",
       "                                             headline  \\\n",
       "0   Let’s See … Hire Cops, Pay Teachers, Buy Books...   \n",
       "1   People Sent This Lesbian Questions And Her Rai...   \n",
       "2   $3 Million Is What It Takes For A State To Leg...   \n",
       "3   The Fact That Sometimes Innocent People Are Ex...   \n",
       "4   Reason #351 To End The Death Penalty: It Costs...   \n",
       "5   I Was Already Against The Death Penalty, But N...   \n",
       "6   I'll Say It: It's Not OK For States To Legally...   \n",
       "11  You Guys. Solar-Powered Boat Schools. Repeat. ...   \n",
       "24  They're Asking For $12,000. If I Give It To Th...   \n",
       "35  At First Glance It Just Looks Like A Bus. But ...   \n",
       "\n",
       "                                                 lede  \\\n",
       "0   <p>Iff you start with the basic fact that inno...   \n",
       "1       <p>I'll be honest. I've wondered about 7.</p>   \n",
       "2   <p>Iff you start with the basic fact that inno...   \n",
       "3   <p>Iff you start with the basic fact that inno...   \n",
       "4   <p>Iff you start with the basic fact that inno...   \n",
       "5   <p>Iff you start with the basic fact that inno...   \n",
       "6   <p>Iff you start with the basic fact that inno...   \n",
       "11  <p>This is a pretty great idea for a TV show! ...   \n",
       "24  <p>This is a pretty great idea for a TV show! ...   \n",
       "35  <p>Meet Amelia. Some might call her a business...   \n",
       "\n",
       "                                                 slug  \\\n",
       "0   let-s-see-hire-cops-pay-teachers-buy-books-for...   \n",
       "1   people-sent-this-lesbian-questions-and-her-rai...   \n",
       "2   3-million-is-what-it-takes-for-a-state-to-lega...   \n",
       "3   the-fact-that-sometimes-innocent-people-are-ex...   \n",
       "4   reason-351-to-end-the-death-penalty-it-costs-3...   \n",
       "5   i-was-already-against-the-death-penalty-but-no...   \n",
       "6   ill-say-it-its-not-ok-for-states-to-legally-mu...   \n",
       "11  you-guys-solar-powered-boat-schools-repeat-sol...   \n",
       "24  theyre-asking-for-12-000-if-i-give-it-to-them-...   \n",
       "35  at-first-glance-it-just-looks-like-a-bus-but-i...   \n",
       "\n",
       "               eyecatcher_id  impressions  clicks  significance  first_place  \\\n",
       "0   546dce659ad54ec65b000041         3118       8           0.1        False   \n",
       "1   546d1b4bfd3617f091000041         4587     130          55.8        False   \n",
       "2   546dce659ad54ec65b000041         3017      19          26.9        False   \n",
       "3   546dce659ad54ec65b000041         2974      26         100.0         True   \n",
       "4   546dce659ad54ec65b000041         3050      10           0.2        False   \n",
       "5   546dce659ad54ec65b000041         3061      20          32.0        False   \n",
       "6   546dce659ad54ec65b000041         2997      20          28.2        False   \n",
       "11  546a84cc5b606a1fa0000022         4596      14           0.0        False   \n",
       "24  546a84cc5b606a1fa0000022         4556      27           1.4        False   \n",
       "35  5465291f744884eb36000042         4574      57           0.7        False   \n",
       "\n",
       "    winner share_text square  test_week                  created  \n",
       "0    False        NaN    NaN     201446  2014-11-20 11:33:26.475  \n",
       "1    False        NaN    NaN     201446  2014-11-20 15:00:01.032  \n",
       "2    False        NaN    NaN     201446  2014-11-20 11:33:51.973  \n",
       "3    False        NaN    NaN     201446  2014-11-20 11:34:12.107  \n",
       "4    False        NaN    NaN     201446  2014-11-20 11:34:33.935  \n",
       "5    False        NaN    NaN     201446  2014-11-20 11:34:48.474  \n",
       "6    False        NaN    NaN     201446  2014-11-20 11:36:09.896  \n",
       "11   False        NaN    NaN     201446  2014-11-20 15:48:53.770  \n",
       "24   False        NaN    NaN     201446  2014-11-20 15:49:14.300  \n",
       "35   False        NaN    NaN     201446  2014-11-20 13:35:08.065  "
      ]
     },
     "execution_count": 3,
     "metadata": {},
     "output_type": "execute_result"
    }
   ],
   "source": [
    "unique_df[:10]"
   ]
  },
  {
   "cell_type": "code",
   "execution_count": 4,
   "metadata": {},
   "outputs": [],
   "source": [
    "simpler_df = unique_df[[\"clickability_test_id\", \"headline\", \"impressions\", \"clicks\", \"winner\", \"first_place\"]]"
   ]
  },
  {
   "cell_type": "code",
   "execution_count": 4,
   "metadata": {},
   "outputs": [],
   "source": [
    "# save this to a csv file\n",
    "simpler_df.to_csv('upworthy_experiment_simpler.csv')"
   ]
  },
  {
   "cell_type": "code",
   "execution_count": 8,
   "metadata": {},
   "outputs": [
    {
     "name": "stderr",
     "output_type": "stream",
     "text": [
      "/Users/egeozin/.pyenv/versions/3.8.10/envs/gpt/lib/python3.8/site-packages/tqdm/auto.py:21: TqdmWarning: IProgress not found. Please update jupyter and ipywidgets. See https://ipywidgets.readthedocs.io/en/stable/user_install.html\n",
      "  from .autonotebook import tqdm as notebook_tqdm\n",
      "Downloading (…)lve/main/config.json: 100%|██████████| 483/483 [00:00<00:00, 131kB/s]\n",
      "Downloading model.safetensors: 100%|██████████| 268M/268M [00:45<00:00, 5.93MB/s] \n",
      "Downloading (…)solve/main/vocab.txt: 100%|██████████| 232k/232k [00:00<00:00, 1.04MB/s]\n",
      "Downloading (…)okenizer_config.json: 100%|██████████| 28.0/28.0 [00:00<00:00, 6.09kB/s]"
     ]
    },
    {
     "name": "stdout",
     "output_type": "stream",
     "text": [
      "tensor([[0.0766]], grad_fn=<AddmmBackward0>)\n"
     ]
    },
    {
     "name": "stderr",
     "output_type": "stream",
     "text": [
      "\n"
     ]
    }
   ],
   "source": [
    "from transformers import DistilBertModel, DistilBertTokenizer\n",
    "import torch\n",
    "\n",
    "# Load pre-trained model and tokenizer\n",
    "model = DistilBertModel.from_pretrained('distilbert-base-uncased')\n",
    "tokenizer = DistilBertTokenizer.from_pretrained('distilbert-base-uncased')\n",
    "\n",
    "# Function to predict CTR\n",
    "def predict_ctr(headline):\n",
    "    # Encode the headline\n",
    "    inputs = tokenizer(headline, return_tensors='pt')\n",
    "\n",
    "    # Get model's output\n",
    "    outputs = model(**inputs)\n",
    "\n",
    "    # We use the [CLS] output as the headline's embedding\n",
    "    headline_embedding = outputs.last_hidden_state[:, 0, :]\n",
    "\n",
    "    # Here you can use the headline_embedding to predict the CTR\n",
    "    # For example, you can pass it through a linear layer\n",
    "    # Note: You need to train this linear layer (or any other model) on your task\n",
    "    ctr_pred = torch.nn.Linear(headline_embedding.size(-1), 1)(headline_embedding)\n",
    "\n",
    "    return ctr_pred\n",
    "\n",
    "# Test the function\n",
    "headline = \"This is a test headline\"\n",
    "ctr_pred = predict_ctr(headline)\n",
    "\n",
    "print(ctr_pred)"
   ]
  },
  {
   "cell_type": "code",
   "execution_count": 9,
   "metadata": {},
   "outputs": [
    {
     "name": "stdout",
     "output_type": "stream",
     "text": [
      "tensor([[-0.1280]], grad_fn=<AddmmBackward0>)\n"
     ]
    }
   ],
   "source": [
    "# get the first headline from sampled_df\n",
    "headline = sampled_df['headline'].iloc[0]\n",
    "ctr_pred = predict_ctr(headline)\n",
    "print(ctr_pred)"
   ]
  },
  {
   "cell_type": "markdown",
   "metadata": {},
   "source": [
    "# OpenAI embeddings"
   ]
  },
  {
   "cell_type": "code",
   "execution_count": 9,
   "metadata": {},
   "outputs": [],
   "source": [
    "# imports\n",
    "import pandas as pd\n",
    "import numpy as np\n",
    "from ast import literal_eval\n",
    "\n",
    "import pandas as pd\n",
    "import tiktoken\n",
    "\n",
    "from sklearn.ensemble import RandomForestClassifier\n",
    "from sklearn.model_selection import train_test_split\n",
    "from sklearn.metrics import classification_report, accuracy_score"
   ]
  },
  {
   "cell_type": "code",
   "execution_count": 5,
   "metadata": {},
   "outputs": [],
   "source": [
    "import os\n",
    "\n",
    "openai.api_key = os.getenv('OPENAI_API_KEY')"
   ]
  },
  {
   "cell_type": "code",
   "execution_count": 10,
   "metadata": {},
   "outputs": [],
   "source": [
    "# embedding model parameters\n",
    "embedding_model = \"text-embedding-ada-002\"\n",
    "embedding_encoding = \"cl100k_base\"  # this the encoding for text-embedding-ada-002\n",
    "max_tokens = 8000  # the maximum for text-embedding-ada-002 is 8191"
   ]
  },
  {
   "cell_type": "code",
   "execution_count": 8,
   "metadata": {},
   "outputs": [
    {
     "name": "stderr",
     "output_type": "stream",
     "text": [
      "/var/folders/sv/tnwsf5gj4_j28jzp5zdw7gj80000gn/T/ipykernel_74185/3088811136.py:3: SettingWithCopyWarning: \n",
      "A value is trying to be set on a copy of a slice from a DataFrame.\n",
      "Try using .loc[row_indexer,col_indexer] = value instead\n",
      "\n",
      "See the caveats in the documentation: https://pandas.pydata.org/pandas-docs/stable/user_guide/indexing.html#returning-a-view-versus-a-copy\n",
      "  simpler_df[\"n_tokens\"] = simpler_df.headline.apply(lambda x: len(encoding.encode(x)))\n"
     ]
    },
    {
     "data": {
      "text/plain": [
       "49545"
      ]
     },
     "execution_count": 8,
     "metadata": {},
     "output_type": "execute_result"
    }
   ],
   "source": [
    "encoding = tiktoken.get_encoding(embedding_encoding)\n",
    "# omit reviews that are too long to embed\n",
    "simpler_df[\"n_tokens\"] = simpler_df.headline.apply(lambda x: len(encoding.encode(x)))\n",
    "filter_df = simpler_df[simpler_df.n_tokens <= max_tokens]\n",
    "len(filter_df)"
   ]
  },
  {
   "cell_type": "markdown",
   "metadata": {},
   "source": [
    "# Here you compute the Embeddings"
   ]
  },
  {
   "cell_type": "code",
   "execution_count": 5,
   "metadata": {},
   "outputs": [],
   "source": [
    "# read in the embedding data\n",
    "filter_df = pd.read_csv(\"ablation_data_openai_ada_002.csv\")"
   ]
  },
  {
   "cell_type": "code",
   "execution_count": 25,
   "metadata": {},
   "outputs": [
    {
     "name": "stdout",
     "output_type": "stream",
     "text": [
      "Average Clicks: 46.56183267736401\n",
      "Standard Deviation of Clicks: 40.20707562050527\n",
      "count    49545.000000\n",
      "mean        46.561833\n",
      "std         40.207076\n",
      "min          0.000000\n",
      "25%         21.000000\n",
      "50%         35.000000\n",
      "75%         59.000000\n",
      "max        701.000000\n",
      "Name: clicks, dtype: float64\n"
     ]
    },
    {
     "data": {
      "text/plain": [
       "<Axes: >"
      ]
     },
     "execution_count": 25,
     "metadata": {},
     "output_type": "execute_result"
    },
    {
     "data": {
      "image/png": "[encoded data removed]",
      "text/plain": [
       "<Figure size 640x480 with 1 Axes>"
      ]
     },
     "metadata": {},
     "output_type": "display_data"
    }
   ],
   "source": [
    "# Calculate the average number of clicks\n",
    "average_clicks = filter_df['clicks'].mean()\n",
    "print(f'Average Clicks: {average_clicks}')\n",
    "\n",
    "# Calculate the standard deviation to understand the spread\n",
    "std_dev_clicks = filter_df['clicks'].std()\n",
    "print(f'Standard Deviation of Clicks: {std_dev_clicks}')\n",
    "\n",
    "# Describe the distribution\n",
    "distribution = filter_df['clicks'].describe()\n",
    "print(distribution)\n",
    "\n",
    "# Histogram to visualize the distribution\n",
    "filter_df['clicks'].hist(bins=50)\n",
    "\n",
    "# Show a boxplot to visualize the distribution and potential outliers\n",
    "filter_df['clicks'].plot(kind='box', vert=False)"
   ]
  },
  {
   "cell_type": "code",
   "execution_count": 6,
   "metadata": {},
   "outputs": [
    {
     "data": {
      "text/html": [
       "<div>\n",
       "<style scoped>\n",
       "    .dataframe tbody tr th:only-of-type {\n",
       "        vertical-align: middle;\n",
       "    }\n",
       "\n",
       "    .dataframe tbody tr th {\n",
       "        vertical-align: top;\n",
       "    }\n",
       "\n",
       "    .dataframe thead th {\n",
       "        text-align: right;\n",
       "    }\n",
       "</style>\n",
       "<table border=\"1\" class=\"dataframe\">\n",
       "  <thead>\n",
       "    <tr style=\"text-align: right;\">\n",
       "      <th></th>\n",
       "      <th>clickability_test_id</th>\n",
       "      <th>headline</th>\n",
       "      <th>impressions</th>\n",
       "      <th>clicks</th>\n",
       "      <th>winner</th>\n",
       "      <th>first_place</th>\n",
       "      <th>n_tokens</th>\n",
       "      <th>embedding</th>\n",
       "    </tr>\n",
       "  </thead>\n",
       "  <tbody>\n",
       "    <tr>\n",
       "      <th>0</th>\n",
       "      <td>546dd17e26714c82cc00001c</td>\n",
       "      <td>Let’s See … Hire Cops, Pay Teachers, Buy Books...</td>\n",
       "      <td>3118</td>\n",
       "      <td>8</td>\n",
       "      <td>False</td>\n",
       "      <td>False</td>\n",
       "      <td>25</td>\n",
       "      <td>[0.01483243890106678, -0.0056637790985405445, ...</td>\n",
       "    </tr>\n",
       "    <tr>\n",
       "      <th>1</th>\n",
       "      <td>546e01d626714c6c4400004e</td>\n",
       "      <td>People Sent This Lesbian Questions And Her Rai...</td>\n",
       "      <td>4587</td>\n",
       "      <td>130</td>\n",
       "      <td>False</td>\n",
       "      <td>False</td>\n",
       "      <td>16</td>\n",
       "      <td>[-0.009504910558462143, -0.013010174036026001,...</td>\n",
       "    </tr>\n",
       "    <tr>\n",
       "      <th>2</th>\n",
       "      <td>546dd17e26714c82cc00001c</td>\n",
       "      <td>$3 Million Is What It Takes For A State To Leg...</td>\n",
       "      <td>3017</td>\n",
       "      <td>19</td>\n",
       "      <td>False</td>\n",
       "      <td>False</td>\n",
       "      <td>15</td>\n",
       "      <td>[0.013443034142255783, 0.004486433696001768, 0...</td>\n",
       "    </tr>\n",
       "    <tr>\n",
       "      <th>3</th>\n",
       "      <td>546dd17e26714c82cc00001c</td>\n",
       "      <td>The Fact That Sometimes Innocent People Are Ex...</td>\n",
       "      <td>2974</td>\n",
       "      <td>26</td>\n",
       "      <td>False</td>\n",
       "      <td>True</td>\n",
       "      <td>21</td>\n",
       "      <td>[0.00983955804258585, -0.004824853036552668, -...</td>\n",
       "    </tr>\n",
       "    <tr>\n",
       "      <th>4</th>\n",
       "      <td>546dd17e26714c82cc00001c</td>\n",
       "      <td>Reason #351 To End The Death Penalty: It Costs...</td>\n",
       "      <td>3050</td>\n",
       "      <td>10</td>\n",
       "      <td>False</td>\n",
       "      <td>False</td>\n",
       "      <td>17</td>\n",
       "      <td>[0.0182014349848032, -0.003413585713133216, -0...</td>\n",
       "    </tr>\n",
       "    <tr>\n",
       "      <th>5</th>\n",
       "      <td>546dd17e26714c82cc00001c</td>\n",
       "      <td>I Was Already Against The Death Penalty, But N...</td>\n",
       "      <td>3061</td>\n",
       "      <td>20</td>\n",
       "      <td>False</td>\n",
       "      <td>False</td>\n",
       "      <td>22</td>\n",
       "      <td>[0.00297338399104774, -0.016174687072634697, 0...</td>\n",
       "    </tr>\n",
       "    <tr>\n",
       "      <th>6</th>\n",
       "      <td>546dd17e26714c82cc00001c</td>\n",
       "      <td>I'll Say It: It's Not OK For States To Legally...</td>\n",
       "      <td>2997</td>\n",
       "      <td>20</td>\n",
       "      <td>False</td>\n",
       "      <td>False</td>\n",
       "      <td>17</td>\n",
       "      <td>[0.009097990579903126, -0.0022397483699023724,...</td>\n",
       "    </tr>\n",
       "    <tr>\n",
       "      <th>7</th>\n",
       "      <td>546e0d339ad54e667a00005a</td>\n",
       "      <td>You Guys. Solar-Powered Boat Schools. Repeat. ...</td>\n",
       "      <td>4596</td>\n",
       "      <td>14</td>\n",
       "      <td>False</td>\n",
       "      <td>False</td>\n",
       "      <td>21</td>\n",
       "      <td>[0.013811718672513962, -0.022465644404292107, ...</td>\n",
       "    </tr>\n",
       "    <tr>\n",
       "      <th>8</th>\n",
       "      <td>546e0d339ad54e667a00005a</td>\n",
       "      <td>They're Asking For $12,000. If I Give It To Th...</td>\n",
       "      <td>4556</td>\n",
       "      <td>27</td>\n",
       "      <td>False</td>\n",
       "      <td>False</td>\n",
       "      <td>22</td>\n",
       "      <td>[-0.0138528598472476, -0.009457114152610302, -...</td>\n",
       "    </tr>\n",
       "    <tr>\n",
       "      <th>9</th>\n",
       "      <td>546dee0c26714c0538000056</td>\n",
       "      <td>At First Glance It Just Looks Like A Bus. But ...</td>\n",
       "      <td>4574</td>\n",
       "      <td>57</td>\n",
       "      <td>False</td>\n",
       "      <td>False</td>\n",
       "      <td>21</td>\n",
       "      <td>[0.019017867743968964, 0.00322405225597322, 0....</td>\n",
       "    </tr>\n",
       "  </tbody>\n",
       "</table>\n",
       "</div>"
      ],
      "text/plain": [
       "       clickability_test_id  \\\n",
       "0  546dd17e26714c82cc00001c   \n",
       "1  546e01d626714c6c4400004e   \n",
       "2  546dd17e26714c82cc00001c   \n",
       "3  546dd17e26714c82cc00001c   \n",
       "4  546dd17e26714c82cc00001c   \n",
       "5  546dd17e26714c82cc00001c   \n",
       "6  546dd17e26714c82cc00001c   \n",
       "7  546e0d339ad54e667a00005a   \n",
       "8  546e0d339ad54e667a00005a   \n",
       "9  546dee0c26714c0538000056   \n",
       "\n",
       "                                            headline  impressions  clicks  \\\n",
       "0  Let’s See … Hire Cops, Pay Teachers, Buy Books...         3118       8   \n",
       "1  People Sent This Lesbian Questions And Her Rai...         4587     130   \n",
       "2  $3 Million Is What It Takes For A State To Leg...         3017      19   \n",
       "3  The Fact That Sometimes Innocent People Are Ex...         2974      26   \n",
       "4  Reason #351 To End The Death Penalty: It Costs...         3050      10   \n",
       "5  I Was Already Against The Death Penalty, But N...         3061      20   \n",
       "6  I'll Say It: It's Not OK For States To Legally...         2997      20   \n",
       "7  You Guys. Solar-Powered Boat Schools. Repeat. ...         4596      14   \n",
       "8  They're Asking For $12,000. If I Give It To Th...         4556      27   \n",
       "9  At First Glance It Just Looks Like A Bus. But ...         4574      57   \n",
       "\n",
       "   winner  first_place  n_tokens  \\\n",
       "0   False        False        25   \n",
       "1   False        False        16   \n",
       "2   False        False        15   \n",
       "3   False         True        21   \n",
       "4   False        False        17   \n",
       "5   False        False        22   \n",
       "6   False        False        17   \n",
       "7   False        False        21   \n",
       "8   False        False        22   \n",
       "9   False        False        21   \n",
       "\n",
       "                                           embedding  \n",
       "0  [0.01483243890106678, -0.0056637790985405445, ...  \n",
       "1  [-0.009504910558462143, -0.013010174036026001,...  \n",
       "2  [0.013443034142255783, 0.004486433696001768, 0...  \n",
       "3  [0.00983955804258585, -0.004824853036552668, -...  \n",
       "4  [0.0182014349848032, -0.003413585713133216, -0...  \n",
       "5  [0.00297338399104774, -0.016174687072634697, 0...  \n",
       "6  [0.009097990579903126, -0.0022397483699023724,...  \n",
       "7  [0.013811718672513962, -0.022465644404292107, ...  \n",
       "8  [-0.0138528598472476, -0.009457114152610302, -...  \n",
       "9  [0.019017867743968964, 0.00322405225597322, 0....  "
      ]
     },
     "execution_count": 6,
     "metadata": {},
     "output_type": "execute_result"
    }
   ],
   "source": [
    "filter_df[:10]"
   ]
  },
  {
   "cell_type": "code",
   "execution_count": 11,
   "metadata": {},
   "outputs": [],
   "source": [
    "filter_df['embedding'] = filter_df['embedding'].apply(literal_eval)"
   ]
  },
  {
   "cell_type": "code",
   "execution_count": 13,
   "metadata": {},
   "outputs": [],
   "source": [
    "# Find the clickability_test_id's where any of the embeddings or headlines are missing\n",
    "invalid_ids = filter_df[filter_df['embedding'].isnull() | filter_df['headline'].isnull()]['clickability_test_id'].unique()"
   ]
  },
  {
   "cell_type": "code",
   "execution_count": 23,
   "metadata": {},
   "outputs": [],
   "source": [
    "# Get unique clickability_test_id's and split them into train and test sets\n",
    "unique_ids = filter_df['clickability_test_id'].unique()\n",
    "train_ids, test_ids = train_test_split(unique_ids, test_size=0.2, random_state=42)\n",
    "\n",
    "# Create train and test dataframes based on the split ids\n",
    "train_df = filter_df[filter_df['clickability_test_id'].isin(train_ids)]\n",
    "test_df = filter_df[filter_df['clickability_test_id'].isin(test_ids)]\n",
    "\n",
    "# Split the data into features (X) and target (y)\n",
    "X_train = pd.DataFrame(train_df['embedding'].to_list())\n",
    "y_train = train_df['first_place']\n",
    "\n",
    "X_test = pd.DataFrame(test_df['embedding'].to_list())\n",
    "y_test = test_df['first_place']"
   ]
  },
  {
   "cell_type": "code",
   "execution_count": 17,
   "metadata": {},
   "outputs": [
    {
     "name": "stdout",
     "output_type": "stream",
     "text": [
      "39561 9984\n",
      "3.9624399038461537\n"
     ]
    }
   ],
   "source": [
    "print(len(X_train), len(X_test))"
   ]
  },
  {
   "cell_type": "code",
   "execution_count": 28,
   "metadata": {},
   "outputs": [],
   "source": [
    "# train random forest classifier\n",
    "#first_clf = RandomForestClassifier(n_estimators=100)\n",
    "clf = RandomForestClassifier(n_estimators=100, class_weight='balanced', random_state=42)\n",
    "clf.fit(X_train, y_train)\n",
    "preds = clf.predict(X_test)\n",
    "probas = clf.predict_proba(X_test)"
   ]
  },
  {
   "cell_type": "code",
   "execution_count": 30,
   "metadata": {},
   "outputs": [
    {
     "name": "stdout",
     "output_type": "stream",
     "text": [
      "              precision    recall  f1-score   support\n",
      "\n",
      "       False       0.81      0.95      0.88      7899\n",
      "        True       0.48      0.16      0.24      2085\n",
      "\n",
      "    accuracy                           0.79      9984\n",
      "   macro avg       0.65      0.56      0.56      9984\n",
      "weighted avg       0.74      0.79      0.74      9984\n",
      "\n"
     ]
    }
   ],
   "source": [
    "report = classification_report(y_test, preds)\n",
    "print(report)"
   ]
  },
  {
   "cell_type": "code",
   "execution_count": 31,
   "metadata": {},
   "outputs": [
    {
     "name": "stdout",
     "output_type": "stream",
     "text": [
      "AUROC: 0.5635453657582858\n"
     ]
    }
   ],
   "source": [
    "from sklearn.metrics import roc_auc_score\n",
    "\n",
    "# Compute AUROC\n",
    "auroc = roc_auc_score(y_test, probas[:, 1])\n",
    "print('AUROC:', auroc)"
   ]
  },
  {
   "cell_type": "code",
   "execution_count": 14,
   "metadata": {},
   "outputs": [],
   "source": [
    "from sklearn.ensemble import RandomForestRegressor\n",
    "from sklearn.metrics import mean_squared_error, r2_score\n",
    "\n",
    "# Assuming filter_df is your DataFrame and already contains the 'embedding' column\n",
    "# Get unique clickability_test_id's and split them into train and test sets\n",
    "unique_ids = filter_df['clickability_test_id'].unique()\n",
    "train_ids, test_ids = train_test_split(unique_ids, test_size=0.2, random_state=42)\n",
    "\n",
    "# Create train and test dataframes based on the split ids\n",
    "train_df = filter_df[filter_df['clickability_test_id'].isin(train_ids)]\n",
    "test_df = filter_df[filter_df['clickability_test_id'].isin(test_ids)]\n",
    "\n",
    "# Split the data into features (X) and target (y)\n",
    "X_train = pd.DataFrame(train_df['embedding'].to_list())\n",
    "y_train = train_df['clicks']  # Target is now 'clicks' instead of 'first_place'\n",
    "\n",
    "X_test = pd.DataFrame(test_df['embedding'].to_list())\n",
    "y_test = test_df['clicks']"
   ]
  },
  {
   "cell_type": "code",
   "execution_count": 24,
   "metadata": {},
   "outputs": [
    {
     "data": {
      "text/plain": [
       "(39561, 9984)"
      ]
     },
     "execution_count": 24,
     "metadata": {},
     "output_type": "execute_result"
    }
   ],
   "source": [
    "len(X_train), len(X_test)"
   ]
  },
  {
   "cell_type": "code",
   "execution_count": 18,
   "metadata": {},
   "outputs": [
    {
     "data": {
      "text/html": [
       "<style>#sk-container-id-1 {color: black;}#sk-container-id-1 pre{padding: 0;}#sk-container-id-1 div.sk-toggleable {background-color: white;}#sk-container-id-1 label.sk-toggleable__label {cursor: pointer;display: block;width: 100%;margin-bottom: 0;padding: 0.3em;box-sizing: border-box;text-align: center;}#sk-container-id-1 label.sk-toggleable__label-arrow:before {content: \"▸\";float: left;margin-right: 0.25em;color: #696969;}#sk-container-id-1 label.sk-toggleable__label-arrow:hover:before {color: black;}#sk-container-id-1 div.sk-estimator:hover label.sk-toggleable__label-arrow:before {color: black;}#sk-container-id-1 div.sk-toggleable__content {max-height: 0;max-width: 0;overflow: hidden;text-align: left;background-color: #f0f8ff;}#sk-container-id-1 div.sk-toggleable__content pre {margin: 0.2em;color: black;border-radius: 0.25em;background-color: #f0f8ff;}#sk-container-id-1 input.sk-toggleable__control:checked~div.sk-toggleable__content {max-height: 200px;max-width: 100%;overflow: auto;}#sk-container-id-1 input.sk-toggleable__control:checked~label.sk-toggleable__label-arrow:before {content: \"▾\";}#sk-container-id-1 div.sk-estimator input.sk-toggleable__control:checked~label.sk-toggleable__label {background-color: #d4ebff;}#sk-container-id-1 div.sk-label input.sk-toggleable__control:checked~label.sk-toggleable__label {background-color: #d4ebff;}#sk-container-id-1 input.sk-hidden--visually {border: 0;clip: rect(1px 1px 1px 1px);clip: rect(1px, 1px, 1px, 1px);height: 1px;margin: -1px;overflow: hidden;padding: 0;position: absolute;width: 1px;}#sk-container-id-1 div.sk-estimator {font-family: monospace;background-color: #f0f8ff;border: 1px dotted black;border-radius: 0.25em;box-sizing: border-box;margin-bottom: 0.5em;}#sk-container-id-1 div.sk-estimator:hover {background-color: #d4ebff;}#sk-container-id-1 div.sk-parallel-item::after {content: \"\";width: 100%;border-bottom: 1px solid gray;flex-grow: 1;}#sk-container-id-1 div.sk-label:hover label.sk-toggleable__label {background-color: #d4ebff;}#sk-container-id-1 div.sk-serial::before {content: \"\";position: absolute;border-left: 1px solid gray;box-sizing: border-box;top: 0;bottom: 0;left: 50%;z-index: 0;}#sk-container-id-1 div.sk-serial {display: flex;flex-direction: column;align-items: center;background-color: white;padding-right: 0.2em;padding-left: 0.2em;position: relative;}#sk-container-id-1 div.sk-item {position: relative;z-index: 1;}#sk-container-id-1 div.sk-parallel {display: flex;align-items: stretch;justify-content: center;background-color: white;position: relative;}#sk-container-id-1 div.sk-item::before, #sk-container-id-1 div.sk-parallel-item::before {content: \"\";position: absolute;border-left: 1px solid gray;box-sizing: border-box;top: 0;bottom: 0;left: 50%;z-index: -1;}#sk-container-id-1 div.sk-parallel-item {display: flex;flex-direction: column;z-index: 1;position: relative;background-color: white;}#sk-container-id-1 div.sk-parallel-item:first-child::after {align-self: flex-end;width: 50%;}#sk-container-id-1 div.sk-parallel-item:last-child::after {align-self: flex-start;width: 50%;}#sk-container-id-1 div.sk-parallel-item:only-child::after {width: 0;}#sk-container-id-1 div.sk-dashed-wrapped {border: 1px dashed gray;margin: 0 0.4em 0.5em 0.4em;box-sizing: border-box;padding-bottom: 0.4em;background-color: white;}#sk-container-id-1 div.sk-label label {font-family: monospace;font-weight: bold;display: inline-block;line-height: 1.2em;}#sk-container-id-1 div.sk-label-container {text-align: center;}#sk-container-id-1 div.sk-container {/* jupyter's `normalize.less` sets `[hidden] { display: none; }` but bootstrap.min.css set `[hidden] { display: none !important; }` so we also need the `!important` here to be able to override the default hidden behavior on the sphinx rendered scikit-learn.org. See: https://github.com/scikit-learn/scikit-learn/issues/21755 */display: inline-block !important;position: relative;}#sk-container-id-1 div.sk-text-repr-fallback {display: none;}</style><div id=\"sk-container-id-1\" class=\"sk-top-container\"><div class=\"sk-text-repr-fallback\"><pre>RandomForestRegressor(random_state=42)</pre><b>In a Jupyter environment, please rerun this cell to show the HTML representation or trust the notebook. <br />On GitHub, the HTML representation is unable to render, please try loading this page with nbviewer.org.</b></div><div class=\"sk-container\" hidden><div class=\"sk-item\"><div class=\"sk-estimator sk-toggleable\"><input class=\"sk-toggleable__control sk-hidden--visually\" id=\"sk-estimator-id-1\" type=\"checkbox\" checked><label for=\"sk-estimator-id-1\" class=\"sk-toggleable__label sk-toggleable__label-arrow\">RandomForestRegressor</label><div class=\"sk-toggleable__content\"><pre>RandomForestRegressor(random_state=42)</pre></div></div></div></div></div>"
      ],
      "text/plain": [
       "RandomForestRegressor(random_state=42)"
      ]
     },
     "execution_count": 18,
     "metadata": {},
     "output_type": "execute_result"
    }
   ],
   "source": [
    "# Initialize the RandomForestRegressor\n",
    "regressor = RandomForestRegressor(n_estimators=100, random_state=42)\n",
    "\n",
    "# Fit the model on the training data\n",
    "regressor.fit(X_train, y_train)"
   ]
  },
  {
   "cell_type": "code",
   "execution_count": 19,
   "metadata": {},
   "outputs": [
    {
     "name": "stdout",
     "output_type": "stream",
     "text": [
      "Mean Squared Error: 1115.2623356284787\n",
      "R-squared: 0.30439288758043026\n"
     ]
    }
   ],
   "source": [
    "# Predict on the test data\n",
    "clicks_pred = regressor.predict(X_test)\n",
    "\n",
    "# Evaluate the model\n",
    "mse = mean_squared_error(y_test, clicks_pred)\n",
    "r2 = r2_score(y_test, clicks_pred)\n",
    "\n",
    "print(f'Mean Squared Error: {mse}')\n",
    "print(f'R-squared: {r2}')"
   ]
  },
  {
   "cell_type": "code",
   "execution_count": 20,
   "metadata": {},
   "outputs": [
    {
     "data": {
      "text/plain": [
       "['random_forest_regressor.joblib']"
      ]
     },
     "execution_count": 20,
     "metadata": {},
     "output_type": "execute_result"
    }
   ],
   "source": [
    "from joblib import dump\n",
    "\n",
    "# Save the model to a file\n",
    "dump(regressor, 'random_forest_regressor.joblib')"
   ]
  },
  {
   "cell_type": "code",
   "execution_count": 21,
   "metadata": {},
   "outputs": [
    {
     "name": "stdout",
     "output_type": "stream",
     "text": [
      "Mean Squared Error: 1115.2623356284787\n",
      "Root Mean Squared Error: 33.39554364924276\n",
      "Mean Absolute Error: 22.711403177376507\n",
      "R-squared: 0.30439288758043026\n"
     ]
    }
   ],
   "source": [
    "from sklearn.metrics import mean_squared_error, mean_absolute_error, r2_score\n",
    "\n",
    "mse = mean_squared_error(y_test, clicks_pred)\n",
    "rmse = mean_squared_error(y_test, clicks_pred, squared=False)\n",
    "mae = mean_absolute_error(y_test, clicks_pred)\n",
    "r2 = r2_score(y_test, clicks_pred)\n",
    "\n",
    "print(f'Mean Squared Error: {mse}')\n",
    "print(f'Root Mean Squared Error: {rmse}')\n",
    "print(f'Mean Absolute Error: {mae}')\n",
    "print(f'R-squared: {r2}')"
   ]
  },
  {
   "cell_type": "code",
   "execution_count": 23,
   "metadata": {},
   "outputs": [
    {
     "data": {
      "image/png": "[encoded data removed]",
      "text/plain": [
       "<Figure size 640x480 with 1 Axes>"
      ]
     },
     "metadata": {},
     "output_type": "display_data"
    },
    {
     "data": {
      "image/png": "[encoded data removed]",
      "text/plain": [
       "<Figure size 640x480 with 1 Axes>"
      ]
     },
     "metadata": {},
     "output_type": "display_data"
    },
    {
     "data": {
      "image/png": "[encoded data removed]",
      "text/plain": [
       "<Figure size 640x480 with 1 Axes>"
      ]
     },
     "metadata": {},
     "output_type": "display_data"
    },
    {
     "data": {
      "image/png": "[encoded data removed]",
      "text/plain": [
       "<Figure size 640x480 with 1 Axes>"
      ]
     },
     "metadata": {},
     "output_type": "display_data"
    }
   ],
   "source": [
    "import matplotlib.pyplot as plt\n",
    "import scipy.stats as stats\n",
    "import numpy as np\n",
    "\n",
    "# Calculate residuals\n",
    "residuals = y_test - clicks_pred\n",
    "\n",
    "# Residuals vs. Fitted Plot\n",
    "plt.scatter(clicks_pred, residuals)\n",
    "plt.xlabel('Fitted values')\n",
    "plt.ylabel('Residuals')\n",
    "plt.title('Residuals vs. Fitted')\n",
    "plt.axhline(y=0, color='grey', linestyle='dashed')\n",
    "plt.show()\n",
    "\n",
    "# Q-Q Plot\n",
    "stats.probplot(residuals, dist=\"norm\", plot=plt)\n",
    "plt.title('Normal Q-Q')\n",
    "plt.show()\n",
    "\n",
    "# Scale-Location Plot\n",
    "plt.scatter(clicks_pred, np.sqrt(np.abs(residuals)))\n",
    "plt.xlabel('Fitted values')\n",
    "plt.ylabel('Sqrt(|Residuals|)')\n",
    "plt.title('Scale-Location')\n",
    "plt.show()\n",
    "\n",
    "# Residuals vs. Leverage Plot\n",
    "from statsmodels.graphics.regressionplots import plot_leverage_resid2\n",
    "import statsmodels.api as sm\n",
    "\n",
    "y_test = y_test.reset_index(drop=True)\n",
    "X_test_with_const = sm.add_constant(X_test.reset_index(drop=True))\n",
    "\n",
    "# Now create the OLS model\n",
    "model = sm.OLS(y_test, X_test_with_const)\n",
    "fit = model.fit()\n",
    "\n",
    "# Continue with the leverage plot\n",
    "plot_leverage_resid2(fit)\n",
    "plt.show()"
   ]
  },
  {
   "cell_type": "markdown",
   "metadata": {},
   "source": [
    "## IGNORE THIS FOR NOW"
   ]
  },
  {
   "cell_type": "code",
   "execution_count": null,
   "metadata": {},
   "outputs": [],
   "source": [
    "from transformers import DistilBertModel, DistilBertTokenizer\n",
    "import torch\n",
    "from torch.utils.data import Dataset, DataLoader\n",
    "from torch import nn, optim\n",
    "\n",
    "# Load pre-trained model and tokenizer\n",
    "model = DistilBertModel.from_pretrained('distilbert-base-uncased')\n",
    "tokenizer = DistilBertTokenizer.from_pretrained('distilbert-base-uncased')\n",
    "\n",
    "# Define a dataset\n",
    "class HeadlineDataset(Dataset):\n",
    "    def __init__(self, headlines, winners):\n",
    "        self.headlines = headlines\n",
    "        self.winners = winners\n",
    "\n",
    "    def __len__(self):\n",
    "        return len(self.headlines)\n",
    "\n",
    "    def __getitem__(self, idx):\n",
    "        headline = self.headlines[idx]\n",
    "        winner = self.winners[idx]\n",
    "        return headline, winner\n",
    "\n",
    "# Create a dataloader\n",
    "headlines = sampled_df['headline'].tolist()\n",
    "winners = sampled_df['winner'].astype(int).tolist()  # Convert winners to integers\n",
    "dataset = HeadlineDataset(headlines, winners)\n",
    "dataloader = DataLoader(dataset, batch_size=32)\n",
    "\n",
    "# Define a simple linear model\n",
    "linear_model = nn.Linear(model.config.dim, 1)\n",
    "criterion = nn.BCEWithLogitsLoss()\n",
    "optimizer = optim.Adam(linear_model.parameters())\n",
    "\n",
    "# Train the model\n",
    "for epoch in range(10):  # Number of epochs\n",
    "    for i, (headlines, winners) in enumerate(dataloader):\n",
    "        # Encode the headlines\n",
    "        inputs = tokenizer(headlines, return_tensors='pt', padding=True, truncation=True, max_length=512)\n",
    "\n",
    "        # Get model's output\n",
    "        outputs = model(**inputs)\n",
    "\n",
    "        # We use the [CLS] output as the headline's embedding\n",
    "        headline_embeddings = outputs.last_hidden_state[:, 0, :]\n",
    "\n",
    "        # Forward pass through the linear model\n",
    "        winner_preds = linear_model(headline_embeddings)\n",
    "\n",
    "        # Compute the loss\n",
    "        loss = criterion(winner_preds, winners.unsqueeze(1).float())\n",
    "\n",
    "        # Backward pass and optimization\n",
    "        optimizer.zero_grad()\n",
    "        loss.backward()\n",
    "        optimizer.step()\n",
    "\n",
    "        # Print loss every 100 steps\n",
    "        if i % 100 == 0:\n",
    "            print(f'Epoch [{epoch+1}/10], Step [{i+1}/{len(dataloader)}], Loss: {loss.item()}')"
   ]
  }
 ],
 "metadata": {
  "kernelspec": {
   "display_name": "gpt",
   "language": "python",
   "name": "python3"
  },
  "language_info": {
   "codemirror_mode": {
    "name": "ipython",
    "version": 3
   },
   "file_extension": ".py",
   "mimetype": "text/x-python",
   "name": "python",
   "nbconvert_exporter": "python",
   "pygments_lexer": "ipython3",
   "version": "3.8.10"
  },
  "orig_nbformat": 4
 },
 "nbformat": 4,
 "nbformat_minor": 2
}
